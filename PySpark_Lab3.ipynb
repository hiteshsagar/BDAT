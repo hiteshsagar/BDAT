{
  "nbformat": 4,
  "nbformat_minor": 0,
  "metadata": {
    "colab": {
      "provenance": [],
      "mount_file_id": "1t7avANJONEFW4KGwzqGFHBzs68tjc_9a",
      "authorship_tag": "ABX9TyPgKv5AKjsk8uZwPuJfktad",
      "include_colab_link": true
    },
    "kernelspec": {
      "name": "python3",
      "display_name": "Python 3"
    },
    "language_info": {
      "name": "python"
    }
  },
  "cells": [
    {
      "cell_type": "markdown",
      "metadata": {
        "id": "view-in-github",
        "colab_type": "text"
      },
      "source": [
        "<a href=\"https://colab.research.google.com/github/hiteshsagar/BDAT/blob/main/PySpark_Lab3.ipynb\" target=\"_parent\"><img src=\"https://colab.research.google.com/assets/colab-badge.svg\" alt=\"Open In Colab\"/></a>"
      ]
    },
    {
      "cell_type": "code",
      "source": [
        "# !pip install pyspark"
      ],
      "metadata": {
        "id": "-qkk9pEzmxoX"
      },
      "execution_count": 77,
      "outputs": []
    },
    {
      "cell_type": "code",
      "source": [
        "from pyspark.sql import SparkSession\n",
        "from pyspark.sql.functions import col"
      ],
      "metadata": {
        "id": "j3s41yqvlKyf"
      },
      "execution_count": 78,
      "outputs": []
    },
    {
      "cell_type": "code",
      "source": [
        "spark = SparkSession.builder\\\n",
        "        .master(\"local\")\\\n",
        "        .appName(\"automobile\")\\\n",
        "        .config('spark.ui.port', '4050')\\\n",
        "        .getOrCreate()"
      ],
      "metadata": {
        "id": "3hFm4dDYh-fZ"
      },
      "execution_count": 79,
      "outputs": []
    },
    {
      "cell_type": "code",
      "source": [
        "spark"
      ],
      "metadata": {
        "id": "HRWmgl90nUWO",
        "colab": {
          "base_uri": "https://localhost:8080/",
          "height": 219
        },
        "outputId": "d3c38a69-a236-48f8-dae9-e4fca456fea7"
      },
      "execution_count": 80,
      "outputs": [
        {
          "output_type": "execute_result",
          "data": {
            "text/plain": [
              "<pyspark.sql.session.SparkSession at 0x78f2a6e27d90>"
            ],
            "text/html": [
              "\n",
              "            <div>\n",
              "                <p><b>SparkSession - in-memory</b></p>\n",
              "                \n",
              "        <div>\n",
              "            <p><b>SparkContext</b></p>\n",
              "\n",
              "            <p><a href=\"http://d2f882ea02b7:4050\">Spark UI</a></p>\n",
              "\n",
              "            <dl>\n",
              "              <dt>Version</dt>\n",
              "                <dd><code>v3.5.0</code></dd>\n",
              "              <dt>Master</dt>\n",
              "                <dd><code>local</code></dd>\n",
              "              <dt>AppName</dt>\n",
              "                <dd><code>automobile</code></dd>\n",
              "            </dl>\n",
              "        </div>\n",
              "        \n",
              "            </div>\n",
              "        "
            ]
          },
          "metadata": {},
          "execution_count": 80
        }
      ]
    },
    {
      "cell_type": "markdown",
      "source": [
        "# 1) Load *Data Automobile* data into a `PySpark` DF and Running the `head` command"
      ],
      "metadata": {
        "id": "Iw5961vRkCPh"
      }
    },
    {
      "cell_type": "code",
      "source": [
        "df = spark.read.csv('/content/drive/MyDrive/PySpark-Lab3/Automobile_data.csv', header=True)"
      ],
      "metadata": {
        "id": "dn_-Yux4oy4-"
      },
      "execution_count": 81,
      "outputs": []
    },
    {
      "cell_type": "code",
      "source": [
        "# Head command\n",
        "df.head()"
      ],
      "metadata": {
        "colab": {
          "base_uri": "https://localhost:8080/"
        },
        "id": "n_DX2ACDj0ZX",
        "outputId": "daa6f375-dd76-4391-996d-79fca4064a4e"
      },
      "execution_count": 82,
      "outputs": [
        {
          "output_type": "execute_result",
          "data": {
            "text/plain": [
              "Row(symboling='3', normalized-losses='?', make='alfa-romero', fuel-type='gas', aspiration='std', num-of-doors='two', body-style='convertible', drive-wheels='rwd', engine-location='front', wheel-base='88.6', length='168.8', width='64.1', height='48.8', curb-weight='2548', engine-type='dohc', num-of-cylinders='four', engine-size='130', fuel-system='mpfi', bore='3.47', stroke='2.68', compression-ratio='9', horsepower='111', peak-rpm='5000', city-mpg='21', highway-mpg='27', price='13495')"
            ]
          },
          "metadata": {},
          "execution_count": 82
        }
      ]
    },
    {
      "cell_type": "code",
      "source": [
        "df.columns"
      ],
      "metadata": {
        "colab": {
          "base_uri": "https://localhost:8080/"
        },
        "id": "I_AE60E4o1Oa",
        "outputId": "d4214ccb-a41b-48e4-a812-f7380dcbc0f7"
      },
      "execution_count": 83,
      "outputs": [
        {
          "output_type": "execute_result",
          "data": {
            "text/plain": [
              "['symboling',\n",
              " 'normalized-losses',\n",
              " 'make',\n",
              " 'fuel-type',\n",
              " 'aspiration',\n",
              " 'num-of-doors',\n",
              " 'body-style',\n",
              " 'drive-wheels',\n",
              " 'engine-location',\n",
              " 'wheel-base',\n",
              " 'length',\n",
              " 'width',\n",
              " 'height',\n",
              " 'curb-weight',\n",
              " 'engine-type',\n",
              " 'num-of-cylinders',\n",
              " 'engine-size',\n",
              " 'fuel-system',\n",
              " 'bore',\n",
              " 'stroke',\n",
              " 'compression-ratio',\n",
              " 'horsepower',\n",
              " 'peak-rpm',\n",
              " 'city-mpg',\n",
              " 'highway-mpg',\n",
              " 'price']"
            ]
          },
          "metadata": {},
          "execution_count": 83
        }
      ]
    },
    {
      "cell_type": "code",
      "source": [
        "df.describe()"
      ],
      "metadata": {
        "colab": {
          "base_uri": "https://localhost:8080/"
        },
        "id": "FrbRGmGgD7j0",
        "outputId": "a0d2607d-cb77-434e-b1b3-52010addf63b"
      },
      "execution_count": 84,
      "outputs": [
        {
          "output_type": "execute_result",
          "data": {
            "text/plain": [
              "DataFrame[summary: string, symboling: string, normalized-losses: string, make: string, fuel-type: string, aspiration: string, num-of-doors: string, body-style: string, drive-wheels: string, engine-location: string, wheel-base: string, length: string, width: string, height: string, curb-weight: string, engine-type: string, num-of-cylinders: string, engine-size: string, fuel-system: string, bore: string, stroke: string, compression-ratio: string, horsepower: string, peak-rpm: string, city-mpg: string, highway-mpg: string, price: string]"
            ]
          },
          "metadata": {},
          "execution_count": 84
        }
      ]
    },
    {
      "cell_type": "code",
      "source": [
        "df.show(10)"
      ],
      "metadata": {
        "colab": {
          "base_uri": "https://localhost:8080/"
        },
        "id": "usefNbJyoWwF",
        "outputId": "068f576a-1374-49a4-e7cc-4f5a52709bd7"
      },
      "execution_count": 85,
      "outputs": [
        {
          "output_type": "stream",
          "name": "stdout",
          "text": [
            "+---------+-----------------+-----------+---------+----------+------------+-----------+------------+---------------+----------+------+-----+------+-----------+-----------+----------------+-----------+-----------+----+------+-----------------+----------+--------+--------+-----------+-----+\n",
            "|symboling|normalized-losses|       make|fuel-type|aspiration|num-of-doors| body-style|drive-wheels|engine-location|wheel-base|length|width|height|curb-weight|engine-type|num-of-cylinders|engine-size|fuel-system|bore|stroke|compression-ratio|horsepower|peak-rpm|city-mpg|highway-mpg|price|\n",
            "+---------+-----------------+-----------+---------+----------+------------+-----------+------------+---------------+----------+------+-----+------+-----------+-----------+----------------+-----------+-----------+----+------+-----------------+----------+--------+--------+-----------+-----+\n",
            "|        3|                ?|alfa-romero|      gas|       std|         two|convertible|         rwd|          front|      88.6| 168.8| 64.1|  48.8|       2548|       dohc|            four|        130|       mpfi|3.47|  2.68|                9|       111|    5000|      21|         27|13495|\n",
            "|        3|                ?|alfa-romero|      gas|       std|         two|convertible|         rwd|          front|      88.6| 168.8| 64.1|  48.8|       2548|       dohc|            four|        130|       mpfi|3.47|  2.68|                9|       111|    5000|      21|         27|16500|\n",
            "|        1|                ?|alfa-romero|      gas|       std|         two|  hatchback|         rwd|          front|      94.5| 171.2| 65.5|  52.4|       2823|       ohcv|             six|        152|       mpfi|2.68|  3.47|                9|       154|    5000|      19|         26|16500|\n",
            "|        2|              164|       audi|      gas|       std|        four|      sedan|         fwd|          front|      99.8| 176.6| 66.2|  54.3|       2337|        ohc|            four|        109|       mpfi|3.19|   3.4|               10|       102|    5500|      24|         30|13950|\n",
            "|        2|              164|       audi|      gas|       std|        four|      sedan|         4wd|          front|      99.4| 176.6| 66.4|  54.3|       2824|        ohc|            five|        136|       mpfi|3.19|   3.4|                8|       115|    5500|      18|         22|17450|\n",
            "|        2|                ?|       audi|      gas|       std|         two|      sedan|         fwd|          front|      99.8| 177.3| 66.3|  53.1|       2507|        ohc|            five|        136|       mpfi|3.19|   3.4|              8.5|       110|    5500|      19|         25|15250|\n",
            "|        1|              158|       audi|      gas|       std|        four|      sedan|         fwd|          front|     105.8| 192.7| 71.4|  55.7|       2844|        ohc|            five|        136|       mpfi|3.19|   3.4|              8.5|       110|    5500|      19|         25|17710|\n",
            "|        1|                ?|       audi|      gas|       std|        four|      wagon|         fwd|          front|     105.8| 192.7| 71.4|  55.7|       2954|        ohc|            five|        136|       mpfi|3.19|   3.4|              8.5|       110|    5500|      19|         25|18920|\n",
            "|        1|              158|       audi|      gas|     turbo|        four|      sedan|         fwd|          front|     105.8| 192.7| 71.4|  55.9|       3086|        ohc|            five|        131|       mpfi|3.13|   3.4|              8.3|       140|    5500|      17|         20|23875|\n",
            "|        0|                ?|       audi|      gas|     turbo|         two|  hatchback|         4wd|          front|      99.5| 178.2| 67.9|    52|       3053|        ohc|            five|        131|       mpfi|3.13|   3.4|                7|       160|    5500|      16|         22|    ?|\n",
            "+---------+-----------------+-----------+---------+----------+------------+-----------+------------+---------------+----------+------+-----+------+-----------+-----------+----------------+-----------+-----------+----+------+-----------------+----------+--------+--------+-----------+-----+\n",
            "only showing top 10 rows\n",
            "\n"
          ]
        }
      ]
    },
    {
      "cell_type": "markdown",
      "source": [
        "# 2) Get the count of rows in the DataFrame"
      ],
      "metadata": {
        "id": "RoUj8ZIAfXUc"
      }
    },
    {
      "cell_type": "code",
      "source": [
        "count = df.count()\n",
        "print(f\"Count of rows in the DataFrame: {count}\")"
      ],
      "metadata": {
        "colab": {
          "base_uri": "https://localhost:8080/"
        },
        "id": "oEylLMJNFihD",
        "outputId": "a9c0787c-0831-45b0-c5e6-fc258d9d4612"
      },
      "execution_count": 86,
      "outputs": [
        {
          "output_type": "stream",
          "name": "stdout",
          "text": [
            "Count of rows in the DataFrame: 205\n"
          ]
        }
      ]
    },
    {
      "cell_type": "markdown",
      "source": [
        "# 3) Get the schema of the DataFrame"
      ],
      "metadata": {
        "id": "iXJ5b3ubfdA7"
      }
    },
    {
      "cell_type": "code",
      "source": [
        "df.printSchema()"
      ],
      "metadata": {
        "colab": {
          "base_uri": "https://localhost:8080/"
        },
        "id": "P50i_L6qGFG9",
        "outputId": "2b02df10-1838-4f2a-f293-1a4c30db189a"
      },
      "execution_count": 87,
      "outputs": [
        {
          "output_type": "stream",
          "name": "stdout",
          "text": [
            "root\n",
            " |-- symboling: string (nullable = true)\n",
            " |-- normalized-losses: string (nullable = true)\n",
            " |-- make: string (nullable = true)\n",
            " |-- fuel-type: string (nullable = true)\n",
            " |-- aspiration: string (nullable = true)\n",
            " |-- num-of-doors: string (nullable = true)\n",
            " |-- body-style: string (nullable = true)\n",
            " |-- drive-wheels: string (nullable = true)\n",
            " |-- engine-location: string (nullable = true)\n",
            " |-- wheel-base: string (nullable = true)\n",
            " |-- length: string (nullable = true)\n",
            " |-- width: string (nullable = true)\n",
            " |-- height: string (nullable = true)\n",
            " |-- curb-weight: string (nullable = true)\n",
            " |-- engine-type: string (nullable = true)\n",
            " |-- num-of-cylinders: string (nullable = true)\n",
            " |-- engine-size: string (nullable = true)\n",
            " |-- fuel-system: string (nullable = true)\n",
            " |-- bore: string (nullable = true)\n",
            " |-- stroke: string (nullable = true)\n",
            " |-- compression-ratio: string (nullable = true)\n",
            " |-- horsepower: string (nullable = true)\n",
            " |-- peak-rpm: string (nullable = true)\n",
            " |-- city-mpg: string (nullable = true)\n",
            " |-- highway-mpg: string (nullable = true)\n",
            " |-- price: string (nullable = true)\n",
            "\n"
          ]
        }
      ]
    },
    {
      "cell_type": "markdown",
      "source": [
        "# 4) Remove rows with null values"
      ],
      "metadata": {
        "id": "IB_-kuAVfvKI"
      }
    },
    {
      "cell_type": "code",
      "source": [
        "df =  df.na.drop()\n",
        "df.count()"
      ],
      "metadata": {
        "colab": {
          "base_uri": "https://localhost:8080/"
        },
        "id": "mk77R88EH01D",
        "outputId": "4f3b073e-169e-40c7-d01c-4b39f0fd3d4d"
      },
      "execution_count": 88,
      "outputs": [
        {
          "output_type": "execute_result",
          "data": {
            "text/plain": [
              "205"
            ]
          },
          "metadata": {},
          "execution_count": 88
        }
      ]
    },
    {
      "cell_type": "code",
      "source": [
        "# Loop through all columns and count the null values\n",
        "null_counts = [df.filter(col(column).isNull()).count() for column in df.columns]"
      ],
      "metadata": {
        "id": "tTSRRE6RMrqJ"
      },
      "execution_count": 90,
      "outputs": []
    },
    {
      "cell_type": "code",
      "source": [
        "# Display the count of null values for each column\n",
        "for column, count in zip(df.columns, null_counts):\n",
        "    print(f\"Column '{column}' has {count} null values.\")"
      ],
      "metadata": {
        "colab": {
          "base_uri": "https://localhost:8080/"
        },
        "id": "eBg3mw6Pfmhn",
        "outputId": "80f8c5c4-a0b5-4d95-896e-b203ee8267e9"
      },
      "execution_count": 91,
      "outputs": [
        {
          "output_type": "stream",
          "name": "stdout",
          "text": [
            "Column 'symboling' has 0 null values.\n",
            "Column 'normalized-losses' has 0 null values.\n",
            "Column 'make' has 0 null values.\n",
            "Column 'fuel-type' has 0 null values.\n",
            "Column 'aspiration' has 0 null values.\n",
            "Column 'num-of-doors' has 0 null values.\n",
            "Column 'body-style' has 0 null values.\n",
            "Column 'drive-wheels' has 0 null values.\n",
            "Column 'engine-location' has 0 null values.\n",
            "Column 'wheel-base' has 0 null values.\n",
            "Column 'length' has 0 null values.\n",
            "Column 'width' has 0 null values.\n",
            "Column 'height' has 0 null values.\n",
            "Column 'curb-weight' has 0 null values.\n",
            "Column 'engine-type' has 0 null values.\n",
            "Column 'num-of-cylinders' has 0 null values.\n",
            "Column 'engine-size' has 0 null values.\n",
            "Column 'fuel-system' has 0 null values.\n",
            "Column 'bore' has 0 null values.\n",
            "Column 'stroke' has 0 null values.\n",
            "Column 'compression-ratio' has 0 null values.\n",
            "Column 'horsepower' has 0 null values.\n",
            "Column 'peak-rpm' has 0 null values.\n",
            "Column 'city-mpg' has 0 null values.\n",
            "Column 'highway-mpg' has 0 null values.\n",
            "Column 'price' has 0 null values.\n"
          ]
        }
      ]
    },
    {
      "cell_type": "code",
      "source": [
        "df.select(\"normalized-losses\").show()"
      ],
      "metadata": {
        "colab": {
          "base_uri": "https://localhost:8080/"
        },
        "id": "HMhcTFC2GNhj",
        "outputId": "da7c8434-ae99-4536-873c-72ef9f5911f0"
      },
      "execution_count": 92,
      "outputs": [
        {
          "output_type": "stream",
          "name": "stdout",
          "text": [
            "+-----------------+\n",
            "|normalized-losses|\n",
            "+-----------------+\n",
            "|                ?|\n",
            "|                ?|\n",
            "|                ?|\n",
            "|              164|\n",
            "|              164|\n",
            "|                ?|\n",
            "|              158|\n",
            "|                ?|\n",
            "|              158|\n",
            "|                ?|\n",
            "|              192|\n",
            "|              192|\n",
            "|              188|\n",
            "|              188|\n",
            "|                ?|\n",
            "|                ?|\n",
            "|                ?|\n",
            "|                ?|\n",
            "|              121|\n",
            "|               98|\n",
            "+-----------------+\n",
            "only showing top 20 rows\n",
            "\n"
          ]
        }
      ]
    },
    {
      "cell_type": "code",
      "source": [
        "# Filter out rows with '?' values in the \"normalized-losses\" column\n",
        "df = df.filter(col(\"normalized-losses\") != \"?\")\n",
        "df.show(10)"
      ],
      "metadata": {
        "colab": {
          "base_uri": "https://localhost:8080/"
        },
        "id": "xmBufnXnG6zR",
        "outputId": "a8fd521d-d2a4-4137-b763-3ba368cd3085"
      },
      "execution_count": 93,
      "outputs": [
        {
          "output_type": "stream",
          "name": "stdout",
          "text": [
            "+---------+-----------------+---------+---------+----------+------------+----------+------------+---------------+----------+------+-----+------+-----------+-----------+----------------+-----------+-----------+----+------+-----------------+----------+--------+--------+-----------+-----+\n",
            "|symboling|normalized-losses|     make|fuel-type|aspiration|num-of-doors|body-style|drive-wheels|engine-location|wheel-base|length|width|height|curb-weight|engine-type|num-of-cylinders|engine-size|fuel-system|bore|stroke|compression-ratio|horsepower|peak-rpm|city-mpg|highway-mpg|price|\n",
            "+---------+-----------------+---------+---------+----------+------------+----------+------------+---------------+----------+------+-----+------+-----------+-----------+----------------+-----------+-----------+----+------+-----------------+----------+--------+--------+-----------+-----+\n",
            "|        2|              164|     audi|      gas|       std|        four|     sedan|         fwd|          front|      99.8| 176.6| 66.2|  54.3|       2337|        ohc|            four|        109|       mpfi|3.19|   3.4|               10|       102|    5500|      24|         30|13950|\n",
            "|        2|              164|     audi|      gas|       std|        four|     sedan|         4wd|          front|      99.4| 176.6| 66.4|  54.3|       2824|        ohc|            five|        136|       mpfi|3.19|   3.4|                8|       115|    5500|      18|         22|17450|\n",
            "|        1|              158|     audi|      gas|       std|        four|     sedan|         fwd|          front|     105.8| 192.7| 71.4|  55.7|       2844|        ohc|            five|        136|       mpfi|3.19|   3.4|              8.5|       110|    5500|      19|         25|17710|\n",
            "|        1|              158|     audi|      gas|     turbo|        four|     sedan|         fwd|          front|     105.8| 192.7| 71.4|  55.9|       3086|        ohc|            five|        131|       mpfi|3.13|   3.4|              8.3|       140|    5500|      17|         20|23875|\n",
            "|        2|              192|      bmw|      gas|       std|         two|     sedan|         rwd|          front|     101.2| 176.8| 64.8|  54.3|       2395|        ohc|            four|        108|       mpfi| 3.5|   2.8|              8.8|       101|    5800|      23|         29|16430|\n",
            "|        0|              192|      bmw|      gas|       std|        four|     sedan|         rwd|          front|     101.2| 176.8| 64.8|  54.3|       2395|        ohc|            four|        108|       mpfi| 3.5|   2.8|              8.8|       101|    5800|      23|         29|16925|\n",
            "|        0|              188|      bmw|      gas|       std|         two|     sedan|         rwd|          front|     101.2| 176.8| 64.8|  54.3|       2710|        ohc|             six|        164|       mpfi|3.31|  3.19|                9|       121|    4250|      21|         28|20970|\n",
            "|        0|              188|      bmw|      gas|       std|        four|     sedan|         rwd|          front|     101.2| 176.8| 64.8|  54.3|       2765|        ohc|             six|        164|       mpfi|3.31|  3.19|                9|       121|    4250|      21|         28|21105|\n",
            "|        2|              121|chevrolet|      gas|       std|         two| hatchback|         fwd|          front|      88.4| 141.1| 60.3|  53.2|       1488|          l|           three|         61|       2bbl|2.91|  3.03|              9.5|        48|    5100|      47|         53| 5151|\n",
            "|        1|               98|chevrolet|      gas|       std|         two| hatchback|         fwd|          front|      94.5| 155.9| 63.6|    52|       1874|        ohc|            four|         90|       2bbl|3.03|  3.11|              9.6|        70|    5400|      38|         43| 6295|\n",
            "+---------+-----------------+---------+---------+----------+------------+----------+------------+---------------+----------+------+-----+------+-----------+-----------+----------------+-----------+-----------+----+------+-----------------+----------+--------+--------+-----------+-----+\n",
            "only showing top 10 rows\n",
            "\n"
          ]
        }
      ]
    },
    {
      "cell_type": "markdown",
      "source": [
        "# 5) Filtering: Cars with highway mpg > 23"
      ],
      "metadata": {
        "id": "6eEgwxd_gBH0"
      }
    },
    {
      "cell_type": "code",
      "source": [
        "df_highway_mpg_gt_23 = df.filter(df['highway-mpg'] > 23)\n",
        "df_highway_mpg_gt_23.show(10)"
      ],
      "metadata": {
        "id": "ZF3SmcejHFsM",
        "colab": {
          "base_uri": "https://localhost:8080/"
        },
        "outputId": "581b07f3-35a6-4cad-ce07-2d649f412f59"
      },
      "execution_count": 94,
      "outputs": [
        {
          "output_type": "stream",
          "name": "stdout",
          "text": [
            "+---------+-----------------+---------+---------+----------+------------+----------+------------+---------------+----------+------+-----+------+-----------+-----------+----------------+-----------+-----------+----+------+-----------------+----------+--------+--------+-----------+-----+\n",
            "|symboling|normalized-losses|     make|fuel-type|aspiration|num-of-doors|body-style|drive-wheels|engine-location|wheel-base|length|width|height|curb-weight|engine-type|num-of-cylinders|engine-size|fuel-system|bore|stroke|compression-ratio|horsepower|peak-rpm|city-mpg|highway-mpg|price|\n",
            "+---------+-----------------+---------+---------+----------+------------+----------+------------+---------------+----------+------+-----+------+-----------+-----------+----------------+-----------+-----------+----+------+-----------------+----------+--------+--------+-----------+-----+\n",
            "|        2|              164|     audi|      gas|       std|        four|     sedan|         fwd|          front|      99.8| 176.6| 66.2|  54.3|       2337|        ohc|            four|        109|       mpfi|3.19|   3.4|               10|       102|    5500|      24|         30|13950|\n",
            "|        1|              158|     audi|      gas|       std|        four|     sedan|         fwd|          front|     105.8| 192.7| 71.4|  55.7|       2844|        ohc|            five|        136|       mpfi|3.19|   3.4|              8.5|       110|    5500|      19|         25|17710|\n",
            "|        2|              192|      bmw|      gas|       std|         two|     sedan|         rwd|          front|     101.2| 176.8| 64.8|  54.3|       2395|        ohc|            four|        108|       mpfi| 3.5|   2.8|              8.8|       101|    5800|      23|         29|16430|\n",
            "|        0|              192|      bmw|      gas|       std|        four|     sedan|         rwd|          front|     101.2| 176.8| 64.8|  54.3|       2395|        ohc|            four|        108|       mpfi| 3.5|   2.8|              8.8|       101|    5800|      23|         29|16925|\n",
            "|        0|              188|      bmw|      gas|       std|         two|     sedan|         rwd|          front|     101.2| 176.8| 64.8|  54.3|       2710|        ohc|             six|        164|       mpfi|3.31|  3.19|                9|       121|    4250|      21|         28|20970|\n",
            "|        0|              188|      bmw|      gas|       std|        four|     sedan|         rwd|          front|     101.2| 176.8| 64.8|  54.3|       2765|        ohc|             six|        164|       mpfi|3.31|  3.19|                9|       121|    4250|      21|         28|21105|\n",
            "|        2|              121|chevrolet|      gas|       std|         two| hatchback|         fwd|          front|      88.4| 141.1| 60.3|  53.2|       1488|          l|           three|         61|       2bbl|2.91|  3.03|              9.5|        48|    5100|      47|         53| 5151|\n",
            "|        1|               98|chevrolet|      gas|       std|         two| hatchback|         fwd|          front|      94.5| 155.9| 63.6|    52|       1874|        ohc|            four|         90|       2bbl|3.03|  3.11|              9.6|        70|    5400|      38|         43| 6295|\n",
            "|        0|               81|chevrolet|      gas|       std|        four|     sedan|         fwd|          front|      94.5| 158.8| 63.6|    52|       1909|        ohc|            four|         90|       2bbl|3.03|  3.11|              9.6|        70|    5400|      38|         43| 6575|\n",
            "|        1|              118|    dodge|      gas|       std|         two| hatchback|         fwd|          front|      93.7| 157.3| 63.8|  50.8|       1876|        ohc|            four|         90|       2bbl|2.97|  3.23|             9.41|        68|    5500|      37|         41| 5572|\n",
            "+---------+-----------------+---------+---------+----------+------------+----------+------------+---------------+----------+------+-----+------+-----------+-----------+----------------+-----------+-----------+----+------+-----------------+----------+--------+--------+-----------+-----+\n",
            "only showing top 10 rows\n",
            "\n"
          ]
        }
      ]
    },
    {
      "cell_type": "markdown",
      "source": [
        "# 6) Multiple Conditions: Cars with horsepower > 80 and curb-weight > 2000"
      ],
      "metadata": {
        "id": "HTvHwJ-4gES1"
      }
    },
    {
      "cell_type": "code",
      "source": [
        "df_multiple_conditions = df.filter((df['horsepower'] > 80) & (df['curb-weight'] > 2000))\n",
        "df_multiple_conditions.show(10)"
      ],
      "metadata": {
        "colab": {
          "base_uri": "https://localhost:8080/"
        },
        "id": "XNiboCXyHNCW",
        "outputId": "0ee8b076-52ff-4d89-cc1c-b5ce1d69dee0"
      },
      "execution_count": 95,
      "outputs": [
        {
          "output_type": "stream",
          "name": "stdout",
          "text": [
            "+---------+-----------------+-----+---------+----------+------------+----------+------------+---------------+----------+------+-----+------+-----------+-----------+----------------+-----------+-----------+----+------+-----------------+----------+--------+--------+-----------+-----+\n",
            "|symboling|normalized-losses| make|fuel-type|aspiration|num-of-doors|body-style|drive-wheels|engine-location|wheel-base|length|width|height|curb-weight|engine-type|num-of-cylinders|engine-size|fuel-system|bore|stroke|compression-ratio|horsepower|peak-rpm|city-mpg|highway-mpg|price|\n",
            "+---------+-----------------+-----+---------+----------+------------+----------+------------+---------------+----------+------+-----+------+-----------+-----------+----------------+-----------+-----------+----+------+-----------------+----------+--------+--------+-----------+-----+\n",
            "|        2|              164| audi|      gas|       std|        four|     sedan|         fwd|          front|      99.8| 176.6| 66.2|  54.3|       2337|        ohc|            four|        109|       mpfi|3.19|   3.4|               10|       102|    5500|      24|         30|13950|\n",
            "|        2|              164| audi|      gas|       std|        four|     sedan|         4wd|          front|      99.4| 176.6| 66.4|  54.3|       2824|        ohc|            five|        136|       mpfi|3.19|   3.4|                8|       115|    5500|      18|         22|17450|\n",
            "|        1|              158| audi|      gas|       std|        four|     sedan|         fwd|          front|     105.8| 192.7| 71.4|  55.7|       2844|        ohc|            five|        136|       mpfi|3.19|   3.4|              8.5|       110|    5500|      19|         25|17710|\n",
            "|        1|              158| audi|      gas|     turbo|        four|     sedan|         fwd|          front|     105.8| 192.7| 71.4|  55.9|       3086|        ohc|            five|        131|       mpfi|3.13|   3.4|              8.3|       140|    5500|      17|         20|23875|\n",
            "|        2|              192|  bmw|      gas|       std|         two|     sedan|         rwd|          front|     101.2| 176.8| 64.8|  54.3|       2395|        ohc|            four|        108|       mpfi| 3.5|   2.8|              8.8|       101|    5800|      23|         29|16430|\n",
            "|        0|              192|  bmw|      gas|       std|        four|     sedan|         rwd|          front|     101.2| 176.8| 64.8|  54.3|       2395|        ohc|            four|        108|       mpfi| 3.5|   2.8|              8.8|       101|    5800|      23|         29|16925|\n",
            "|        0|              188|  bmw|      gas|       std|         two|     sedan|         rwd|          front|     101.2| 176.8| 64.8|  54.3|       2710|        ohc|             six|        164|       mpfi|3.31|  3.19|                9|       121|    4250|      21|         28|20970|\n",
            "|        0|              188|  bmw|      gas|       std|        four|     sedan|         rwd|          front|     101.2| 176.8| 64.8|  54.3|       2765|        ohc|             six|        164|       mpfi|3.31|  3.19|                9|       121|    4250|      21|         28|21105|\n",
            "|        1|              118|dodge|      gas|     turbo|         two| hatchback|         fwd|          front|      93.7| 157.3| 63.8|  50.8|       2128|        ohc|            four|         98|       mpfi|3.03|  3.39|              7.6|       102|    5500|      24|         30| 7957|\n",
            "|        1|              148|dodge|      gas|     turbo|           ?|     sedan|         fwd|          front|      93.7| 157.3| 63.8|  50.6|       2191|        ohc|            four|         98|       mpfi|3.03|  3.39|              7.6|       102|    5500|      24|         30| 8558|\n",
            "+---------+-----------------+-----+---------+----------+------------+----------+------------+---------------+----------+------+-----+------+-----------+-----------+----------------+-----------+-----------+----+------+-----------------+----------+--------+--------+-----------+-----+\n",
            "only showing top 10 rows\n",
            "\n"
          ]
        }
      ]
    },
    {
      "cell_type": "markdown",
      "source": [
        "# 7) Select only Audi make cars"
      ],
      "metadata": {
        "id": "M0UcqE_WgG0s"
      }
    },
    {
      "cell_type": "code",
      "source": [
        "df_audi_cars = df.filter(df['make'] == 'audi')\n",
        "df_audi_cars.show()"
      ],
      "metadata": {
        "colab": {
          "base_uri": "https://localhost:8080/"
        },
        "id": "0ZgceWCaHT4S",
        "outputId": "46a3f792-55d8-433c-ee04-92f48f089002"
      },
      "execution_count": 96,
      "outputs": [
        {
          "output_type": "stream",
          "name": "stdout",
          "text": [
            "+---------+-----------------+----+---------+----------+------------+----------+------------+---------------+----------+------+-----+------+-----------+-----------+----------------+-----------+-----------+----+------+-----------------+----------+--------+--------+-----------+-----+\n",
            "|symboling|normalized-losses|make|fuel-type|aspiration|num-of-doors|body-style|drive-wheels|engine-location|wheel-base|length|width|height|curb-weight|engine-type|num-of-cylinders|engine-size|fuel-system|bore|stroke|compression-ratio|horsepower|peak-rpm|city-mpg|highway-mpg|price|\n",
            "+---------+-----------------+----+---------+----------+------------+----------+------------+---------------+----------+------+-----+------+-----------+-----------+----------------+-----------+-----------+----+------+-----------------+----------+--------+--------+-----------+-----+\n",
            "|        2|              164|audi|      gas|       std|        four|     sedan|         fwd|          front|      99.8| 176.6| 66.2|  54.3|       2337|        ohc|            four|        109|       mpfi|3.19|   3.4|               10|       102|    5500|      24|         30|13950|\n",
            "|        2|              164|audi|      gas|       std|        four|     sedan|         4wd|          front|      99.4| 176.6| 66.4|  54.3|       2824|        ohc|            five|        136|       mpfi|3.19|   3.4|                8|       115|    5500|      18|         22|17450|\n",
            "|        1|              158|audi|      gas|       std|        four|     sedan|         fwd|          front|     105.8| 192.7| 71.4|  55.7|       2844|        ohc|            five|        136|       mpfi|3.19|   3.4|              8.5|       110|    5500|      19|         25|17710|\n",
            "|        1|              158|audi|      gas|     turbo|        four|     sedan|         fwd|          front|     105.8| 192.7| 71.4|  55.9|       3086|        ohc|            five|        131|       mpfi|3.13|   3.4|              8.3|       140|    5500|      17|         20|23875|\n",
            "+---------+-----------------+----+---------+----------+------------+----------+------------+---------------+----------+------+-----+------+-----------+-----------+----------------+-----------+-----------+----+------+-----------------+----------+--------+--------+-----------+-----+\n",
            "\n"
          ]
        }
      ]
    },
    {
      "cell_type": "markdown",
      "source": [
        "# 8) Get count of cars grouping by Make and Drive-Wheels"
      ],
      "metadata": {
        "id": "zY8mjLeXgKIR"
      }
    },
    {
      "cell_type": "code",
      "source": [
        "grouped = df.groupBy('make', 'drive-wheels').count()\n",
        "grouped.show()"
      ],
      "metadata": {
        "colab": {
          "base_uri": "https://localhost:8080/"
        },
        "id": "e_brGkRcHZE2",
        "outputId": "1956010d-36fa-4e16-e710-db476361fb04"
      },
      "execution_count": 97,
      "outputs": [
        {
          "output_type": "stream",
          "name": "stdout",
          "text": [
            "+-------------+------------+-----+\n",
            "|         make|drive-wheels|count|\n",
            "+-------------+------------+-----+\n",
            "|         saab|         fwd|    6|\n",
            "|       nissan|         fwd|   15|\n",
            "|        mazda|         rwd|    5|\n",
            "|        mazda|         fwd|   10|\n",
            "|   mitsubishi|         fwd|   10|\n",
            "|    chevrolet|         fwd|    3|\n",
            "|         audi|         4wd|    1|\n",
            "|      porsche|         rwd|    1|\n",
            "|       toyota|         4wd|    2|\n",
            "|   volkswagen|         fwd|    8|\n",
            "|       jaguar|         rwd|    1|\n",
            "|          bmw|         rwd|    4|\n",
            "|       nissan|         rwd|    3|\n",
            "|       peugot|         rwd|    7|\n",
            "|        volvo|         rwd|   11|\n",
            "|     plymouth|         fwd|    6|\n",
            "|       subaru|         fwd|    7|\n",
            "|       toyota|         fwd|   16|\n",
            "|        honda|         fwd|   13|\n",
            "|mercedes-benz|         rwd|    5|\n",
            "+-------------+------------+-----+\n",
            "only showing top 20 rows\n",
            "\n"
          ]
        }
      ]
    }
  ]
}