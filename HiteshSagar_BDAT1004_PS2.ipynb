{
 "cells": [
  {
   "cell_type": "markdown",
   "metadata": {
    "id": "Oc7hVQ2ye3eY"
   },
   "source": [
    "# Problem Set 2"
   ]
  },
  {
   "cell_type": "markdown",
   "metadata": {
    "id": "9MPwpVf-e9am"
   },
   "source": [
    "# Question 1\n",
    "\n",
    "Consider the following Python module:"
   ]
  },
  {
   "cell_type": "code",
   "execution_count": 1,
   "metadata": {
    "id": "6M7b7248gY5B"
   },
   "outputs": [],
   "source": [
    "a = 0"
   ]
  },
  {
   "cell_type": "code",
   "execution_count": 2,
   "metadata": {
    "id": "nBWN22uggb_R"
   },
   "outputs": [],
   "source": [
    "def b():\n",
    "  global a\n",
    "  a = c(a)"
   ]
  },
  {
   "cell_type": "code",
   "execution_count": 3,
   "metadata": {
    "id": "y4AFeJtDgb72"
   },
   "outputs": [],
   "source": [
    "def c(a):\n",
    "  return a + 2"
   ]
  },
  {
   "cell_type": "markdown",
   "metadata": {
    "id": "YkYQcCEqgjq8"
   },
   "source": [
    "After importing the module into the interpreter, you execute:"
   ]
  },
  {
   "cell_type": "code",
   "execution_count": 4,
   "metadata": {
    "id": "iMhEa51IgldH"
   },
   "outputs": [],
   "source": [
    "b()"
   ]
  },
  {
   "cell_type": "code",
   "execution_count": 5,
   "metadata": {
    "id": "NbZnAPCjgmUt"
   },
   "outputs": [],
   "source": [
    "b()"
   ]
  },
  {
   "cell_type": "code",
   "execution_count": 6,
   "metadata": {
    "id": "o1ylSBrNgmRL"
   },
   "outputs": [],
   "source": [
    "b()"
   ]
  },
  {
   "cell_type": "code",
   "execution_count": 7,
   "metadata": {
    "colab": {
     "base_uri": "https://localhost:8080/"
    },
    "id": "ZrSDNhpOgmO0",
    "outputId": "8dd339f6-1e22-45da-811e-66fc66e95e38"
   },
   "outputs": [
    {
     "data": {
      "text/plain": [
       "6"
      ]
     },
     "execution_count": 7,
     "metadata": {},
     "output_type": "execute_result"
    }
   ],
   "source": [
    "a"
   ]
  },
  {
   "cell_type": "markdown",
   "metadata": {
    "id": "SsLpkrzvgm-J"
   },
   "source": [
    "What value is displayed when the last expression (a) is evaluated? Explain your answer by indicating what happens in every executed statement.\n"
   ]
  },
  {
   "cell_type": "markdown",
   "metadata": {
    "id": "l6kqR4-zhqaF"
   },
   "source": [
    "In the given Python module, there is a global variable called \"a\" which is initially set to 0. The module contains a function named \"b()\" that modifies the value of \"a\" by invoking another function called \"c(a)\" which adds 2 to the current value of \"a\". By calling \"b()\" three times, the value of \"a\" is updated to 6. The first call changes \"a\" from 0 to 2, the second call changes it from 2 to 4, and the third call changes it from 4 to 6. Consequently, when the last expression \"a\" is evaluated, it returns the value 6, indicating the final value of the global variable \"a\" after the function calls."
   ]
  },
  {
   "cell_type": "markdown",
   "metadata": {
    "id": "H6yRMcNefzps"
   },
   "source": [
    "# Question 2\n",
    "\n",
    "Function fileLength(), given to you, takes the name of a file as input and returns the length of the file:"
   ]
  },
  {
   "cell_type": "code",
   "execution_count": 9,
   "metadata": {
    "id": "lXQ-wze_hA3M"
   },
   "outputs": [],
   "source": [
    "import os\n",
    "\n",
    "def fileLength(filename):\n",
    "    try:\n",
    "        # Get the size of the file in bytes\n",
    "        file_size = os.path.getsize(filename)\n",
    "        return file_size\n",
    "    except OSError:\n",
    "        return -1\n"
   ]
  },
  {
   "cell_type": "code",
   "execution_count": 14,
   "metadata": {
    "colab": {
     "base_uri": "https://localhost:8080/"
    },
    "id": "0zigll4jeZ7o",
    "outputId": "4b7533f0-c1d8-4a80-ad20-e1a101a0e8e6"
   },
   "outputs": [
    {
     "name": "stdout",
     "output_type": "stream",
     "text": [
      "File length: 165 bytes\n"
     ]
    }
   ],
   "source": [
    "length = fileLength(\"C:\\\\Users\\\\TheDevilCoder\\\\project.txt\")\n",
    "print(\"File length:\", length, \"bytes\")"
   ]
  },
  {
   "cell_type": "markdown",
   "metadata": {
    "id": "xwP504d2g6Sl"
   },
   "source": [
    "As shown above, if the file cannot be found by the interpreter or if it cannot be read as a text file, an exception will be raised. Modify function fileLength() so that a friendly message is printed instead:\n",
    "\n"
   ]
  },
  {
   "cell_type": "code",
   "execution_count": 15,
   "metadata": {
    "id": "WFnBw-sYictY"
   },
   "outputs": [],
   "source": [
    "import os\n",
    "\n",
    "def fileLength(filename):\n",
    "    try:\n",
    "        # Get the size of the file in bytes\n",
    "        file_size = os.path.getsize(filename)\n",
    "        return file_size\n",
    "    except OSError:\n",
    "        print(\"Error: File\", filename, \"not found or cannot be read as a text file.\")\n",
    "        return -1"
   ]
  },
  {
   "cell_type": "code",
   "execution_count": 17,
   "metadata": {
    "colab": {
     "base_uri": "https://localhost:8080/"
    },
    "id": "r7MkegTgiURg",
    "outputId": "2229576f-8aae-457e-ab2a-7775ed7001e2"
   },
   "outputs": [
    {
     "name": "stdout",
     "output_type": "stream",
     "text": [
      "Error: File C:\\Users\\TheDevilCoder\\project1.txt not found or cannot be read as a text file.\n",
      "File length: -1 bytes\n"
     ]
    }
   ],
   "source": [
    "length = fileLength(\"C:\\\\Users\\\\TheDevilCoder\\\\project1.txt\")\n",
    "print(\"File length:\", length, \"bytes\")"
   ]
  },
  {
   "cell_type": "markdown",
   "metadata": {
    "id": "Cuf_agZ6ik5e"
   },
   "source": [
    "# Question 3\n",
    "\n",
    "Write a class named Marsupial that can be used as shown below:\n",
    "```\n",
    ">>> m = Marsupial()\n",
    ">>> m.put_in_pouch('doll')\n",
    ">>> m.put_in_pouch('firetruck')\n",
    ">>> m.put_in_pouch('kitten')\n",
    ">>> m.pouch_contents()\n",
    "['doll', 'firetruck', 'kitten']\n",
    "```\n"
   ]
  },
  {
   "cell_type": "code",
   "execution_count": 18,
   "metadata": {
    "id": "UUCyLCgokC76"
   },
   "outputs": [],
   "source": [
    "class Marsupial:\n",
    "  def __init__(self):\n",
    "    self.pouch = []\n",
    "\n",
    "  def put_in_pouch(self, item):\n",
    "    self.pouch.append(item)\n",
    "\n",
    "  def pouch_contents(self):\n",
    "    return self.pouch"
   ]
  },
  {
   "cell_type": "code",
   "execution_count": 19,
   "metadata": {
    "id": "lP6f6IzxkLOa"
   },
   "outputs": [],
   "source": [
    "m = Marsupial()"
   ]
  },
  {
   "cell_type": "code",
   "execution_count": 20,
   "metadata": {
    "id": "EJjySdHEkK91"
   },
   "outputs": [],
   "source": [
    "m.put_in_pouch('doll')"
   ]
  },
  {
   "cell_type": "code",
   "execution_count": 21,
   "metadata": {
    "id": "1Np4zLzDkK6c"
   },
   "outputs": [],
   "source": [
    "m.put_in_pouch('firetruck')"
   ]
  },
  {
   "cell_type": "code",
   "execution_count": 22,
   "metadata": {
    "id": "B8377N_RkK4O"
   },
   "outputs": [],
   "source": [
    "m.put_in_pouch('kitten')"
   ]
  },
  {
   "cell_type": "code",
   "execution_count": 23,
   "metadata": {
    "colab": {
     "base_uri": "https://localhost:8080/"
    },
    "id": "vGnCad-fkK18",
    "outputId": "a00b83d7-2986-4b37-ff42-e61cd90dfd1f"
   },
   "outputs": [
    {
     "data": {
      "text/plain": [
       "['doll', 'firetruck', 'kitten']"
      ]
     },
     "execution_count": 23,
     "metadata": {},
     "output_type": "execute_result"
    }
   ],
   "source": [
    "m.pouch_contents()"
   ]
  },
  {
   "cell_type": "markdown",
   "metadata": {
    "id": "F8-gORDvkDVc"
   },
   "source": [
    "Now write a class named Kangaroo as a subclass of Marsupial that inherits all the attributes of Marsupial and also:\n",
    "1. extends the Marsupial ```__init__``` constructor to take, as input, the\n",
    "coordinates x and y of the Kangaroo object,\n",
    "2. supports method jump that takes number values dx and dy as input and movesthe kangaroo by dx units along the x-axis and by dy units along the yaxis, and\n",
    "3. overloads the ```__str__``` operator so it behaves as shown below.\n",
    "\n",
    "```\n",
    ">>> k = Kangaroo(0,0)\n",
    ">>> print(k)\n",
    "I am a Kangaroo located at coordinates (0,0)\n",
    ">>> k.put_in_pouch('doll')\n",
    ">>> k.put_in_pouch('firetruck')\n",
    ">>> k.put_in_pouch('kitten')\n",
    ">>> k.pouch_contents()\n",
    "['doll', 'firetruck', 'kitten']\n",
    ">>> k.jump(1,0)\n",
    ">>> k.jump(1,0)\n",
    ">>> k.jump(1,0)\n",
    ">>> print(k)\n",
    "I am a Kangaroo located at coordinates (3,0)\n",
    "```"
   ]
  },
  {
   "cell_type": "code",
   "execution_count": 24,
   "metadata": {
    "id": "1yRIWNiuj7yW"
   },
   "outputs": [],
   "source": [
    "class Kangaroo(Marsupial):\n",
    "  def __init__(self, x, y):\n",
    "    super().__init__()\n",
    "    self.x = x\n",
    "    self.y = y\n",
    "\n",
    "  def jump(self, dx, dy):\n",
    "    self.x += dx\n",
    "    self.y += dy\n",
    "\n",
    "  def __str__(self):\n",
    "    return f\"I am a Kangaroo located at coordinates ({self.x},{self.y})\""
   ]
  },
  {
   "cell_type": "code",
   "execution_count": 25,
   "metadata": {
    "colab": {
     "base_uri": "https://localhost:8080/"
    },
    "id": "uNT3UpvI63_G",
    "outputId": "ec1904a1-6971-419c-92fe-3ce545addb54"
   },
   "outputs": [
    {
     "name": "stdout",
     "output_type": "stream",
     "text": [
      "I am a Kangaroo located at coordinates (0,0)\n"
     ]
    }
   ],
   "source": [
    "k = Kangaroo(0, 0)\n",
    "print(k)"
   ]
  },
  {
   "cell_type": "code",
   "execution_count": 26,
   "metadata": {
    "id": "nA6RfvZv73tO"
   },
   "outputs": [],
   "source": [
    "k.put_in_pouch('doll')"
   ]
  },
  {
   "cell_type": "code",
   "execution_count": 27,
   "metadata": {
    "id": "PWY9onH576fT"
   },
   "outputs": [],
   "source": [
    "k.put_in_pouch('firetruck')"
   ]
  },
  {
   "cell_type": "code",
   "execution_count": 28,
   "metadata": {
    "id": "jWg_mF1L77v_"
   },
   "outputs": [],
   "source": [
    "k.put_in_pouch('kitten')"
   ]
  },
  {
   "cell_type": "code",
   "execution_count": 29,
   "metadata": {
    "colab": {
     "base_uri": "https://localhost:8080/"
    },
    "id": "IOUh8AKW77sv",
    "outputId": "5569272f-e047-4ea2-b5c2-92d2ba735cd3"
   },
   "outputs": [
    {
     "name": "stdout",
     "output_type": "stream",
     "text": [
      "['doll', 'firetruck', 'kitten']\n"
     ]
    }
   ],
   "source": [
    "print(k.pouch_contents())"
   ]
  },
  {
   "cell_type": "code",
   "execution_count": 30,
   "metadata": {
    "id": "Epp_krt9i6GG"
   },
   "outputs": [],
   "source": [
    "k.jump(1,0)"
   ]
  },
  {
   "cell_type": "code",
   "execution_count": 31,
   "metadata": {
    "id": "SI9bDWWJjWqp"
   },
   "outputs": [],
   "source": [
    "k.jump(1,0)"
   ]
  },
  {
   "cell_type": "code",
   "execution_count": 32,
   "metadata": {
    "id": "qfJJCmX2jVqu"
   },
   "outputs": [],
   "source": [
    "k.jump(1,0)"
   ]
  },
  {
   "cell_type": "code",
   "execution_count": 33,
   "metadata": {
    "colab": {
     "base_uri": "https://localhost:8080/"
    },
    "id": "w1CsOvuTjVnp",
    "outputId": "fa79d36a-0526-44c1-b84e-733173f1a8ed"
   },
   "outputs": [
    {
     "name": "stdout",
     "output_type": "stream",
     "text": [
      "I am a Kangaroo located at coordinates (3,0)\n"
     ]
    }
   ],
   "source": [
    "print(k)"
   ]
  },
  {
   "cell_type": "markdown",
   "metadata": {
    "id": "KzTwgGKtja3-"
   },
   "source": [
    "# Question 4\n",
    "\n",
    "Write function collatz() that takes a positive integer x as input and prints the Collatz sequence starting at x. A Collatz sequence is obtained by repeatedly applying this rule to the previous number x in the sequence:\n",
    "\n",
    "\\begin{align}\n",
    "        x = \\left\\{\n",
    "        \\begin{array}{cl}\n",
    "        x/2 & \\text{if x is even} \\\\\n",
    "        3x+1 & \\text{if x is odd}\n",
    "        \\end{array}\n",
    "        \\right.\n",
    "    \\end{align}\n",
    "\n",
    "\n",
    "Your function should stop when the sequence gets to number 1. Your implementation must be recursive, without any loops."
   ]
  },
  {
   "cell_type": "code",
   "execution_count": 35,
   "metadata": {
    "id": "iLORcBBsjyBF"
   },
   "outputs": [],
   "source": [
    "def collatz(x):\n",
    "  print(x)\n",
    "\n",
    "  if x == 1:\n",
    "    return\n",
    "  elif x % 2 == 0:\n",
    "    collatz(x // 2)\n",
    "  else:\n",
    "    collatz(3 * x + 1)"
   ]
  },
  {
   "cell_type": "code",
   "execution_count": 36,
   "metadata": {
    "colab": {
     "base_uri": "https://localhost:8080/"
    },
    "id": "-po26lTLjwQK",
    "outputId": "d63d0f09-3584-493e-b486-b84ec3e6f367"
   },
   "outputs": [
    {
     "name": "stdout",
     "output_type": "stream",
     "text": [
      "1\n"
     ]
    }
   ],
   "source": [
    " collatz(1)"
   ]
  },
  {
   "cell_type": "code",
   "execution_count": 37,
   "metadata": {
    "colab": {
     "base_uri": "https://localhost:8080/"
    },
    "id": "dfUQG0A6jw9L",
    "outputId": "2ce91233-37d5-4387-c53e-973f878507f0"
   },
   "outputs": [
    {
     "name": "stdout",
     "output_type": "stream",
     "text": [
      "10\n",
      "5\n",
      "16\n",
      "8\n",
      "4\n",
      "2\n",
      "1\n"
     ]
    }
   ],
   "source": [
    " collatz(10)"
   ]
  },
  {
   "cell_type": "markdown",
   "metadata": {
    "id": "CCZQHKX4pDyn"
   },
   "source": [
    "# Question 5\n",
    "\n",
    "Write a recursive method binary() that takes a non-negative integer n and prints the binary representation of integer n."
   ]
  },
  {
   "cell_type": "code",
   "execution_count": 41,
   "metadata": {
    "id": "suMyX1yHpR3E"
   },
   "outputs": [],
   "source": [
    "def binary(n):\n",
    "    if n > 1:\n",
    "        binary(n // 2)  \n",
    "    print(n % 2, end='')\n"
   ]
  },
  {
   "cell_type": "code",
   "execution_count": 42,
   "metadata": {
    "colab": {
     "base_uri": "https://localhost:8080/"
    },
    "id": "4cEvAG0ppKZE",
    "outputId": "ff1bca13-7749-4e51-e798-879eb98557a4"
   },
   "outputs": [
    {
     "name": "stdout",
     "output_type": "stream",
     "text": [
      "0"
     ]
    }
   ],
   "source": [
    "binary(0)"
   ]
  },
  {
   "cell_type": "code",
   "execution_count": 43,
   "metadata": {
    "colab": {
     "base_uri": "https://localhost:8080/"
    },
    "id": "rdwvYlXDpOc-",
    "outputId": "1e2fc372-9389-4eb4-89ca-a86b7018c9a3"
   },
   "outputs": [
    {
     "name": "stdout",
     "output_type": "stream",
     "text": [
      "1"
     ]
    }
   ],
   "source": [
    "binary(1)"
   ]
  },
  {
   "cell_type": "code",
   "execution_count": 44,
   "metadata": {
    "colab": {
     "base_uri": "https://localhost:8080/"
    },
    "id": "kH2NjENJpQF5",
    "outputId": "593d9476-e8b5-4734-c864-37d71c39398b"
   },
   "outputs": [
    {
     "name": "stdout",
     "output_type": "stream",
     "text": [
      "11"
     ]
    }
   ],
   "source": [
    "binary(3)"
   ]
  },
  {
   "cell_type": "code",
   "execution_count": 45,
   "metadata": {
    "colab": {
     "base_uri": "https://localhost:8080/"
    },
    "id": "RvYcd3YbpRRY",
    "outputId": "19554d70-0d4a-4f6f-cfb7-aecf90070e18"
   },
   "outputs": [
    {
     "name": "stdout",
     "output_type": "stream",
     "text": [
      "1001"
     ]
    }
   ],
   "source": [
    "binary(9)"
   ]
  },
  {
   "cell_type": "markdown",
   "metadata": {
    "id": "ZGZznYOCpS_c"
   },
   "source": [
    "# Question 6\n",
    "\n",
    "Implement a class named HeadingParser that can be used to parse an HTML document, and retrieve and print all the headings in the document. You should implement your class as a subclass of HTMLParser, defined in Standard Library module html.parser. When fed a string containing HTML code, your class should print the headings, one per line and in the order in which they appear in the document.Each heading should be indented asfollows: an h1 heading should have indentation 0, and h2 heading should have indentation 1, etc. Test your implementation using w3c.html.\n",
    "```\n",
    "infile = open('w3c.html')\n",
    "content = infile.read()\n",
    "infile.close()\n",
    "hp = HeadingParser()\n",
    "hp.feed(content)\n",
    "```"
   ]
  },
  {
   "cell_type": "code",
   "execution_count": 70,
   "metadata": {
    "id": "gCH2QGXypfXD"
   },
   "outputs": [],
   "source": [
    "from html.parser import HTMLParser\n",
    "\n",
    "class HeadingParser(HTMLParser):\n",
    "  def __init__(self):\n",
    "    super().__init__()\n",
    "    self.indentation = 0\n",
    "    self.inside_heading = False\n",
    "\n",
    "  def handle_starttag(self, tag, attrs):\n",
    "    if tag.startswith('h') and len(tag) == 2 and tag[1].isdigit():\n",
    "      self.indentation = int(tag[1]) - 1\n",
    "      self.inside_heading = True\n",
    "\n",
    "  def handle_endtag(self, tag):\n",
    "    if tag.startswith('h') and len(tag) == 2 and tag[1].isdigit():\n",
    "      self.indentation = 0\n",
    "      self.inside_heading = False\n",
    "\n",
    "  def handle_data(self, data):\n",
    "    if self.inside_heading:\n",
    "      print(' ' * self.indentation + data.strip())"
   ]
  },
  {
   "cell_type": "code",
   "execution_count": 75,
   "metadata": {
    "id": "H8DDbfu8pgKQ"
   },
   "outputs": [],
   "source": [
    "infile = open(\"C:\\\\Users\\\\TheDevilCoder\\\\w3c.html\")"
   ]
  },
  {
   "cell_type": "code",
   "execution_count": 76,
   "metadata": {
    "id": "IYtNxxPUpgGx"
   },
   "outputs": [],
   "source": [
    "content = infile.read()"
   ]
  },
  {
   "cell_type": "code",
   "execution_count": 77,
   "metadata": {
    "id": "J8lGQnKCpgEh"
   },
   "outputs": [],
   "source": [
    "infile.close()"
   ]
  },
  {
   "cell_type": "code",
   "execution_count": 78,
   "metadata": {
    "id": "H3wtv9WJpf6w"
   },
   "outputs": [],
   "source": [
    "hp = HeadingParser()"
   ]
  },
  {
   "cell_type": "code",
   "execution_count": 79,
   "metadata": {
    "colab": {
     "base_uri": "https://localhost:8080/"
    },
    "id": "gxD98d74prb1",
    "outputId": "4bc92c9f-006f-4a87-82c8-f69cc31a28d4"
   },
   "outputs": [
    {
     "name": "stdout",
     "output_type": "stream",
     "text": [
      "W3C Mission\n",
      " Principles\n"
     ]
    }
   ],
   "source": [
    "hp.feed(content)"
   ]
  },
  {
   "cell_type": "markdown",
   "metadata": {
    "id": "y3nurBoNpvIm"
   },
   "source": [
    "# Question 7\n",
    "\n",
    "Implement recursive function webdir() that takes as input: a URL (as a string) and non-negative integers depth and indent. Your function should visit every web page reachable from the starting URL web page in depth clicks or less, and print each web page's URL. As shown below, indentation, specified by indent, should be used to indicate the depth of a URL.\n",
    "```\n",
    "webdir('http://reed.cs.depaul.edu/lperkovic/csc242/test1.html', 2, 0)\n",
    "\n",
    "http://reed.cs.depaul.edu/lperkovic/csc242/test1.html\n",
    "  http://reed.cs.depaul.edu/lperkovic/csc242/test2.html\n",
    "    http://reed.cs.depaul.edu/lperkovic/csc242/test4.html\n",
    "  http://reed.cs.depaul.edu/lperkovic/csc242/test3.html\n",
    "    http://reed.cs.depaul.edu/lperkovic/csc242/test4.html\n",
    "```"
   ]
  },
  {
   "cell_type": "code",
   "execution_count": 49,
   "metadata": {
    "id": "mgkMn50FqEXH"
   },
   "outputs": [],
   "source": [
    "from urllib.request import urlopen\n",
    "from bs4 import BeautifulSoup\n",
    "\n",
    "def webdir(url, depth, indent):\n",
    "  if depth < 0:\n",
    "    return\n",
    "\n",
    "  try:\n",
    "    response = urlopen(url)\n",
    "    soup = BeautifulSoup(response, 'html.parser')\n",
    "    print(' ' * indent + url)\n",
    "\n",
    "    if depth == 0:\n",
    "      return\n",
    "\n",
    "    links = soup.find_all('a')\n",
    "    for link in links:\n",
    "      href = link.get('href')\n",
    "      if href.startswith('http'):\n",
    "        webdir(href, depth - 1, indent + 2)\n",
    "\n",
    "  except Exception as e:\n",
    "    print('Error:', e)"
   ]
  },
  {
   "cell_type": "code",
   "execution_count": 50,
   "metadata": {
    "colab": {
     "base_uri": "https://localhost:8080/"
    },
    "id": "jBdKE8WPpxHE",
    "outputId": "c3755bb4-9de4-4c19-943f-74135a7f37c7"
   },
   "outputs": [
    {
     "name": "stdout",
     "output_type": "stream",
     "text": [
      "https://reed.cs.depaul.edu/lperkovic/csc242/syllabus.html\n",
      "  https://reed.cs.depaul.edu/lperkovic/\n",
      "Error: <urlopen error [SSL: CERTIFICATE_VERIFY_FAILED] certificate verify failed: unable to get local issuer certificate (_ssl.c:1129)>\n",
      "Error: <urlopen error [SSL: CERTIFICATE_VERIFY_FAILED] certificate verify failed: unable to get local issuer certificate (_ssl.c:1129)>\n",
      "    https://reed.cs.depaul.edu/lperkovic/courses/csc241/\n",
      "    https://reed.cs.depaul.edu/lperkovic/courses/csc242/\n",
      "  https://depaul.zoom.us/j/894936490\n",
      "  https://depaul.zoom.us/j/894936490\n",
      "  https://d2l.depaul.edu/\n",
      "  https://d2l.depaul.edu/\n",
      "  https://www.vitalsource.com/custom/9781119185390\n",
      "    https://get.vitalsource.com/\n",
      "    https://get.vitalsource.com/press\n",
      "    https://get.vitalsource.com/about-us/careers\n",
      "    https://get.vitalsource.com/resources/events\n",
      "    https://get.vitalsource.com/blog\n",
      "    https://get.vitalsource.com/vitalsource-advantage/accessibility\n",
      "    https://bulk-store.vitalsource.com/\n",
      "Error: HTTP Error 403: Forbidden\n",
      "Error: HTTP Error 403: Forbidden\n",
      "    https://www.youtube.com/channel/UCnLjhbaT56U_mmmc4m0yBrA\n",
      "    https://www.instagram.com/vitalsource/\n",
      "    https://www.facebook.com/vitalsourcebookshelf/\n",
      "Error: HTTP Error 302: The HTTP server returned a redirect error that would lead to an infinite loop.\n",
      "The last 30x error message was:\n",
      "Found\n",
      "Error: HTTP Error 999: Request denied\n",
      "    https://get.vitalsource.com/\n",
      "  https://reed.cs.depaul.edu/lperkovic/courses/csc242\n",
      "Error: <urlopen error [SSL: CERTIFICATE_VERIFY_FAILED] certificate verify failed: unable to get local issuer certificate (_ssl.c:1129)>\n",
      "  https://campusconnect.depaul.edu/\n",
      "Error: <urlopen error [SSL: CERTIFICATE_VERIFY_FAILED] certificate verify failed: unable to get local issuer certificate (_ssl.c:1129)>\n",
      "Error: <urlopen error [SSL: CERTIFICATE_VERIFY_FAILED] certificate verify failed: unable to get local issuer certificate (_ssl.c:1129)>\n",
      "Error: <urlopen error [SSL: CERTIFICATE_VERIFY_FAILED] certificate verify failed: unable to get local issuer certificate (_ssl.c:1129)>\n"
     ]
    }
   ],
   "source": [
    "webdir('https://reed.cs.depaul.edu/lperkovic/csc242/syllabus.html', 2, 0)"
   ]
  },
  {
   "cell_type": "markdown",
   "metadata": {
    "id": "kTnyasDEqHeR"
   },
   "source": [
    "# Question 8\n",
    "Write SQL queries on the below database table that return:\n",
    "1. All the temperature data.\n",
    "2. All the cities, but without repetition.\n",
    "3. All the records for India.\n",
    "4. All the Fall records.\n",
    "5. The city, country, and season for which the average rainfall is between 200\n",
    "and 400 millimeters.\n",
    "6. The city and country for which the average Fall temperature is above 20\n",
    "degrees, in increasing temperature order.\n",
    "7. The total annual rainfall for Cairo.\n",
    "8. The total rainfall for each season.\n",
    "\n",
    "|City | Country | Season | Temperature (C) | Rainfall (mm)|\n",
    "|-----|---------|--------|-----------------|--------------|\n",
    "|Mumbai| India | Winter | 24.8 | 5.9|\n",
    "|Mumbai | India| Spring| 28.4| 16.2|\n",
    "|Mumbai|India|Summer|27.9|1549.4|\n",
    "|Mumbai|India|Fall|27.6|346.0|\n",
    "|London|United Kingdom|Winter|4.2|207.7|\n",
    "|London|United Kingdom|Spring|8.3|169.6|\n",
    "|London|United Kingdom|Summer|15.7|157.0|\n",
    "|London|United Kingdom|Fall|10.4|218.5|\n",
    "|Cairo|Egypt|Winter|13.6|16.5|\n",
    "|Cairo|Egypt|Spring|20.7|6.5|\n",
    "|Cairo|Egypt|Summer|27.7|0.1|\n",
    "|Cairo|Egypt|Fall|22.2|4.5|"
   ]
  },
  {
   "cell_type": "code",
   "execution_count": 51,
   "metadata": {
    "id": "sbW1rmV_LRK1"
   },
   "outputs": [],
   "source": [
    "import sqlite3\n",
    "\n",
    "conn = sqlite3.connect('weather.db')"
   ]
  },
  {
   "cell_type": "code",
   "execution_count": 52,
   "metadata": {
    "id": "d-9D41psF3lW"
   },
   "outputs": [],
   "source": [
    "cur = conn.cursor()\n",
    "\n",
    "cur.execute(\"CREATE TABLE WeatherData (City TEXT, Country TEXT, Season TEXT, Temperature REAL, Rainfall REAL)\")\n",
    "\n",
    "conn.commit()"
   ]
  },
  {
   "cell_type": "code",
   "execution_count": 53,
   "metadata": {
    "id": "Tnh4BYNxF3h9"
   },
   "outputs": [],
   "source": [
    "cur.execute(\"INSERT INTO WeatherData VALUES ('Mumbai', 'India', 'Winter', '24.8', '5.9')\")\n",
    "cur.execute(\"INSERT INTO WeatherData VALUES ('Mumbai', 'India', 'Spring', '28.4', '16.2')\")\n",
    "cur.execute(\"INSERT INTO WeatherData VALUES ('Mumbai', 'India', 'Summer', '27.9', '1549.4')\")\n",
    "cur.execute(\"INSERT INTO WeatherData VALUES ('Mumbai', 'India', 'Fall', '27.6', '346.0')\")\n",
    "cur.execute(\"INSERT INTO WeatherData VALUES ('London', 'United Kingdom', 'Winter', '4.2', '207.7')\")\n",
    "cur.execute(\"INSERT INTO WeatherData VALUES ('London', 'United Kingdom', 'Spring', '8.3', '169.6')\")\n",
    "cur.execute(\"INSERT INTO WeatherData VALUES ('London', 'United Kingdom', 'Summer', '15.7', '157.0')\")\n",
    "cur.execute(\"INSERT INTO WeatherData VALUES ('London', 'United Kingdom', 'Fall', '10.4', '218.5')\")\n",
    "cur.execute(\"INSERT INTO WeatherData VALUES ('Cairo', 'Egypt', 'Winter', '13.6', '16.5')\")\n",
    "cur.execute(\"INSERT INTO WeatherData VALUES ('Cairo', 'Egypt', 'Spring', '20.7', '6.5')\")\n",
    "cur.execute(\"INSERT INTO WeatherData VALUES ('Cairo', 'Egypt', 'Summer', '27.7', '0.1')\")\n",
    "cur.execute(\"INSERT INTO WeatherData VALUES ('Cairo', 'Egypt', 'Fall', '22.2', '4.5')\")\n",
    "\n",
    "conn.commit()"
   ]
  },
  {
   "cell_type": "code",
   "execution_count": 54,
   "metadata": {
    "colab": {
     "base_uri": "https://localhost:8080/"
    },
    "id": "blWEBY5wF3gR",
    "outputId": "17036f3d-b479-46cf-851e-8d2a17f59510"
   },
   "outputs": [
    {
     "name": "stdout",
     "output_type": "stream",
     "text": [
      "('Mumbai', 'India', 'Winter', 24.8, 5.9)\n",
      "('Mumbai', 'India', 'Spring', 28.4, 16.2)\n",
      "('Mumbai', 'India', 'Summer', 27.9, 1549.4)\n",
      "('Mumbai', 'India', 'Fall', 27.6, 346.0)\n",
      "('London', 'United Kingdom', 'Winter', 4.2, 207.7)\n",
      "('London', 'United Kingdom', 'Spring', 8.3, 169.6)\n",
      "('London', 'United Kingdom', 'Summer', 15.7, 157.0)\n",
      "('London', 'United Kingdom', 'Fall', 10.4, 218.5)\n",
      "('Cairo', 'Egypt', 'Winter', 13.6, 16.5)\n",
      "('Cairo', 'Egypt', 'Spring', 20.7, 6.5)\n",
      "('Cairo', 'Egypt', 'Summer', 27.7, 0.1)\n",
      "('Cairo', 'Egypt', 'Fall', 22.2, 4.5)\n"
     ]
    }
   ],
   "source": [
    "cur.execute(\"SELECT * FROM WeatherData\")\n",
    "\n",
    "for record in cur:\n",
    "  print(record)"
   ]
  },
  {
   "cell_type": "code",
   "execution_count": 55,
   "metadata": {
    "colab": {
     "base_uri": "https://localhost:8080/"
    },
    "id": "ZLKqthgoMBoS",
    "outputId": "4d632ec3-6fdd-4c27-d78b-d12a1612922a"
   },
   "outputs": [
    {
     "name": "stdout",
     "output_type": "stream",
     "text": [
      "24.8\n",
      "28.4\n",
      "27.9\n",
      "27.6\n",
      "4.2\n",
      "8.3\n",
      "15.7\n",
      "10.4\n",
      "13.6\n",
      "20.7\n",
      "27.7\n",
      "22.2\n"
     ]
    }
   ],
   "source": [
    "cur.execute(\"SELECT Temperature FROM WeatherData\")\n",
    "\n",
    "for record in cur:\n",
    "  print(record[0])"
   ]
  },
  {
   "cell_type": "code",
   "execution_count": 56,
   "metadata": {
    "colab": {
     "base_uri": "https://localhost:8080/"
    },
    "id": "UoLJjRfcMZgF",
    "outputId": "e7effe3c-c77e-4762-9d99-fb9096676c56"
   },
   "outputs": [
    {
     "name": "stdout",
     "output_type": "stream",
     "text": [
      "Mumbai\n",
      "London\n",
      "Cairo\n"
     ]
    }
   ],
   "source": [
    "cur.execute(\"SELECT DISTINCT City FROM WeatherData\")\n",
    "\n",
    "for record in cur:\n",
    "  print(record[0])"
   ]
  },
  {
   "cell_type": "code",
   "execution_count": 57,
   "metadata": {
    "colab": {
     "base_uri": "https://localhost:8080/"
    },
    "id": "9T1NY0cNMZLE",
    "outputId": "ce8eae74-b311-4eb2-cfb1-674f813aa5e6"
   },
   "outputs": [
    {
     "name": "stdout",
     "output_type": "stream",
     "text": [
      "('Mumbai', 'India', 'Winter', 24.8, 5.9)\n",
      "('Mumbai', 'India', 'Spring', 28.4, 16.2)\n",
      "('Mumbai', 'India', 'Summer', 27.9, 1549.4)\n",
      "('Mumbai', 'India', 'Fall', 27.6, 346.0)\n"
     ]
    }
   ],
   "source": [
    "cur.execute(\"SELECT * FROM WeatherData WHERE Country = 'India'\")\n",
    "\n",
    "for record in cur:\n",
    "  print(record)"
   ]
  },
  {
   "cell_type": "code",
   "execution_count": 58,
   "metadata": {
    "colab": {
     "base_uri": "https://localhost:8080/"
    },
    "id": "Jo709bl2MY4U",
    "outputId": "7c99a445-1127-4868-c0fd-ae3b229346bc"
   },
   "outputs": [
    {
     "name": "stdout",
     "output_type": "stream",
     "text": [
      "('Mumbai', 'India', 'Fall', 27.6, 346.0)\n",
      "('London', 'United Kingdom', 'Fall', 10.4, 218.5)\n",
      "('Cairo', 'Egypt', 'Fall', 22.2, 4.5)\n"
     ]
    }
   ],
   "source": [
    "cur.execute(\"SELECT * FROM WeatherData WHERE Season = 'Fall'\")\n",
    "\n",
    "for record in cur:\n",
    "  print(record)"
   ]
  },
  {
   "cell_type": "code",
   "execution_count": 59,
   "metadata": {
    "colab": {
     "base_uri": "https://localhost:8080/"
    },
    "id": "j2NU0s-iMYda",
    "outputId": "8cb1a782-103f-4d3a-d079-54c1d92457e5"
   },
   "outputs": [
    {
     "name": "stdout",
     "output_type": "stream",
     "text": [
      "('London', 'United Kingdom', 'Fall')\n",
      "('London', 'United Kingdom', 'Winter')\n",
      "('Mumbai', 'India', 'Fall')\n"
     ]
    }
   ],
   "source": [
    "cur.execute(\"SELECT City, Country, Season FROM WeatherData GROUP BY City, Country, Season HAVING AVG(Rainfall) BETWEEN 200 AND 400\")\n",
    "\n",
    "for record in cur:\n",
    "  print(record)"
   ]
  },
  {
   "cell_type": "code",
   "execution_count": 60,
   "metadata": {
    "colab": {
     "base_uri": "https://localhost:8080/"
    },
    "id": "9-2b_KFXMX7Z",
    "outputId": "90ab9ccf-69ef-4976-cfcf-7c383064588a"
   },
   "outputs": [
    {
     "name": "stdout",
     "output_type": "stream",
     "text": [
      "('Cairo', 'Egypt')\n",
      "('Mumbai', 'India')\n"
     ]
    }
   ],
   "source": [
    "cur.execute(\"SELECT City, Country FROM WeatherData WHERE Season = 'Fall' GROUP BY City, Country HAVING AVG(Temperature) > 20 ORDER BY AVG(Temperature) ASC\")\n",
    "\n",
    "for record in cur:\n",
    "  print(record)"
   ]
  },
  {
   "cell_type": "code",
   "execution_count": 61,
   "metadata": {
    "colab": {
     "base_uri": "https://localhost:8080/"
    },
    "id": "bpISfmszMXh2",
    "outputId": "512e42d5-56a7-4fe0-86db-54c08fd59843"
   },
   "outputs": [
    {
     "name": "stdout",
     "output_type": "stream",
     "text": [
      "27.6\n"
     ]
    }
   ],
   "source": [
    "cur.execute(\"SELECT SUM(Rainfall) AS TotalRainfall FROM WeatherData WHERE City = 'Cairo'\")\n",
    "\n",
    "for record in cur:\n",
    "  print(record[0])"
   ]
  },
  {
   "cell_type": "code",
   "execution_count": 62,
   "metadata": {
    "colab": {
     "base_uri": "https://localhost:8080/"
    },
    "id": "3Zjj4t57MB3c",
    "outputId": "9fe95f45-d414-4619-91a5-09cf040349ed"
   },
   "outputs": [
    {
     "name": "stdout",
     "output_type": "stream",
     "text": [
      "('Fall', 569.0)\n",
      "('Spring', 192.3)\n",
      "('Summer', 1706.5)\n",
      "('Winter', 230.1)\n"
     ]
    }
   ],
   "source": [
    "cur.execute(\"SELECT Season, ROUND(SUM(Rainfall), 1) AS TotalRainfall FROM WeatherData GROUP BY Season\")\n",
    "\n",
    "for record in cur:\n",
    "  print(record)"
   ]
  },
  {
   "cell_type": "code",
   "execution_count": 63,
   "metadata": {
    "id": "LkZK50QnF3bg"
   },
   "outputs": [],
   "source": [
    "cur.close()\n",
    "conn.close()"
   ]
  },
  {
   "cell_type": "markdown",
   "metadata": {
    "id": "fbXFUWF7MHof"
   },
   "source": [
    "# Question 9\n",
    "\n",
    "Suppose list words is defined as follows:\n"
   ]
  },
  {
   "cell_type": "code",
   "execution_count": 64,
   "metadata": {
    "colab": {
     "base_uri": "https://localhost:8080/"
    },
    "id": "8OXO_r_GMrDY",
    "outputId": "dec76812-fb88-4b27-a78c-56c46f0f5dc9"
   },
   "outputs": [
    {
     "data": {
      "text/plain": [
       "['The', 'quick', 'brown', 'fox', 'jumps', 'over', 'the', 'lazy', 'dog']"
      ]
     },
     "execution_count": 64,
     "metadata": {},
     "output_type": "execute_result"
    }
   ],
   "source": [
    "words = ['The', 'quick', 'brown', 'fox', 'jumps', 'over', 'the', 'lazy', 'dog']\n",
    "words"
   ]
  },
  {
   "cell_type": "markdown",
   "metadata": {
    "id": "eVLrv-gnM5ZM"
   },
   "source": [
    "Write list comprehension expressions that use list words and generate the following\n",
    "lists:\n",
    "1. ```['THE', 'QUICK', 'BROWN', 'FOX', 'JUMPS', 'OVER', 'THE', 'LAZY', 'DOG']```\n",
    "2. ```['the', 'quick', 'brown', 'fox', 'jumps', 'over', 'the', 'lazy', 'dog']```\n",
    "3. ```[3, 5, 5, 3, 5, 4, 3, 4, 3]``` (the list of lengths of words in list words).\n",
    "4. ```[['THE', 'the', 3], ['QUICK', 'quick', 5], ['BROWN', 'brown', 5], ['FOX', 'fox', 3], ['JUMPS', 'jumps', 5], ['OVER', 'over', 4], ['THE', 'the', 3], ['LAZY', 'lazy', 4], ['DOG', 'dog', 3]]``` (the list containing a list for every word of list words, where each list contains the word in uppercase and lowercase and the length of the word.)\n",
    "5. ```['The', 'quick', 'brown', 'fox', 'jumps', 'over', 'the', 'lazy', 'dog']``` (the list of words in list words containing 4 or more characters.)"
   ]
  },
  {
   "cell_type": "code",
   "execution_count": 65,
   "metadata": {
    "colab": {
     "base_uri": "https://localhost:8080/"
    },
    "id": "5yCk8ydYM8Cm",
    "outputId": "8658ab48-3821-4a2c-ead9-f9093ff7379c"
   },
   "outputs": [
    {
     "data": {
      "text/plain": [
       "['THE', 'QUICK', 'BROWN', 'FOX', 'JUMPS', 'OVER', 'THE', 'LAZY', 'DOG']"
      ]
     },
     "execution_count": 65,
     "metadata": {},
     "output_type": "execute_result"
    }
   ],
   "source": [
    "upper_words = [word.upper() for word in words]\n",
    "upper_words"
   ]
  },
  {
   "cell_type": "code",
   "execution_count": 66,
   "metadata": {
    "colab": {
     "base_uri": "https://localhost:8080/"
    },
    "id": "5z6_Z5w2RQof",
    "outputId": "f36765f6-e2e9-4f0b-8ad8-6ec59b0111a8"
   },
   "outputs": [
    {
     "data": {
      "text/plain": [
       "['the', 'quick', 'brown', 'fox', 'jumps', 'over', 'the', 'lazy', 'dog']"
      ]
     },
     "execution_count": 66,
     "metadata": {},
     "output_type": "execute_result"
    }
   ],
   "source": [
    "lower_words = [word.lower() for word in words]\n",
    "lower_words"
   ]
  },
  {
   "cell_type": "code",
   "execution_count": 67,
   "metadata": {
    "colab": {
     "base_uri": "https://localhost:8080/"
    },
    "id": "63VtBBdNRdI-",
    "outputId": "00acb365-f51e-47d4-aa89-ae2d782d2fcf"
   },
   "outputs": [
    {
     "data": {
      "text/plain": [
       "[3, 5, 5, 3, 5, 4, 3, 4, 3]"
      ]
     },
     "execution_count": 67,
     "metadata": {},
     "output_type": "execute_result"
    }
   ],
   "source": [
    "word_lengths = [len(word) for word in words]\n",
    "word_lengths"
   ]
  },
  {
   "cell_type": "code",
   "execution_count": 68,
   "metadata": {
    "colab": {
     "base_uri": "https://localhost:8080/"
    },
    "id": "nLdhoIpzRhaN",
    "outputId": "a5266fc6-0818-453c-b4bd-9373bc01e9dd"
   },
   "outputs": [
    {
     "data": {
      "text/plain": [
       "[['THE', 'the', 3],\n",
       " ['QUICK', 'quick', 5],\n",
       " ['BROWN', 'brown', 5],\n",
       " ['FOX', 'fox', 3],\n",
       " ['JUMPS', 'jumps', 5],\n",
       " ['OVER', 'over', 4],\n",
       " ['THE', 'the', 3],\n",
       " ['LAZY', 'lazy', 4],\n",
       " ['DOG', 'dog', 3]]"
      ]
     },
     "execution_count": 68,
     "metadata": {},
     "output_type": "execute_result"
    }
   ],
   "source": [
    "word_info = [[word.upper(), word.lower(), len(word)] for word in words]\n",
    "word_info"
   ]
  },
  {
   "cell_type": "code",
   "execution_count": 69,
   "metadata": {
    "colab": {
     "base_uri": "https://localhost:8080/"
    },
    "id": "XlE89ppLRlHo",
    "outputId": "b7827006-7485-4ba5-cd7b-94eadbffbe06"
   },
   "outputs": [
    {
     "data": {
      "text/plain": [
       "['quick', 'brown', 'jumps', 'over', 'lazy']"
      ]
     },
     "execution_count": 69,
     "metadata": {},
     "output_type": "execute_result"
    }
   ],
   "source": [
    "long_words = [word for word in words if len(word) >= 4]\n",
    "long_words"
   ]
  }
 ],
 "metadata": {
  "colab": {
   "collapsed_sections": [
    "9MPwpVf-e9am",
    "H6yRMcNefzps",
    "Cuf_agZ6ik5e",
    "KzTwgGKtja3-",
    "CCZQHKX4pDyn",
    "ZGZznYOCpS_c",
    "y3nurBoNpvIm",
    "fbXFUWF7MHof"
   ],
   "provenance": []
  },
  "kernelspec": {
   "display_name": "Python 3 (ipykernel)",
   "language": "python",
   "name": "python3"
  },
  "language_info": {
   "codemirror_mode": {
    "name": "ipython",
    "version": 3
   },
   "file_extension": ".py",
   "mimetype": "text/x-python",
   "name": "python",
   "nbconvert_exporter": "python",
   "pygments_lexer": "ipython3",
   "version": "3.9.7"
  }
 },
 "nbformat": 4,
 "nbformat_minor": 1
}
